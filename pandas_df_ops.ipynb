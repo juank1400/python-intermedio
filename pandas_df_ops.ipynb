{
 "cells": [
  {
   "cell_type": "markdown",
   "metadata": {},
   "source": [
    "# Manejando Merges y joins"
   ]
  },
  {
   "cell_type": "code",
   "execution_count": 38,
   "metadata": {},
   "outputs": [
    {
     "name": "stdout",
     "output_type": "stream",
     "text": [
      "DataFrame de Datos Demográficos:\n",
      "        correo_electronico   nombre apellido  edad     genero  \\\n",
      "0    milleramy@example.org  Jessica  Johnson    43  Masculino   \n",
      "1       okline@example.org  Michael   Juarez    40   Femenino   \n",
      "2       jose69@example.net    Julie      Lee    28   Femenino   \n",
      "3  kennethbeck@example.net  Jessica    Quinn    64  Masculino   \n",
      "4      kelly96@example.org     Kyle   Garcia    67  Masculino   \n",
      "\n",
      "                    pais  \n",
      "0                Mayotte  \n",
      "1               Dominica  \n",
      "2  Saint Kitts and Nevis  \n",
      "3                Ireland  \n",
      "4                Germany  \n",
      "\n",
      "DataFrame de Datos de Consumo de Aplicaciones:\n",
      "      correo_electronico       fecha        app  tiempo_uso_minutos\n",
      "0  milleramy@example.org  2024-06-22     TikTok                 239\n",
      "1  milleramy@example.org  2024-07-01   WhatsApp                 173\n",
      "2  milleramy@example.org  2024-05-19    Twitter                 175\n",
      "3  milleramy@example.org  2024-04-28   Facebook                  86\n",
      "4  milleramy@example.org  2024-05-22  Instagram                 151\n"
     ]
    }
   ],
   "source": [
    "import pandas as pd\n",
    "import numpy as np\n",
    "from faker import Faker\n",
    "import random\n",
    "\n",
    "# Inicializar Faker\n",
    "fake = Faker()\n",
    "\n",
    "# Generar datos demográficos\n",
    "num_records = 100\n",
    "\n",
    "# Generar lista de correos electrónicos única\n",
    "correos_electronicos = [fake.email() for _ in range(num_records)]\n",
    "\n",
    "data_demografica = {\n",
    "    \"correo_electronico\": correos_electronicos,\n",
    "    \"nombre\": [fake.first_name() for _ in range(num_records)],\n",
    "    \"apellido\": [fake.last_name() for _ in range(num_records)],\n",
    "    \"edad\": [fake.random_int(min=18, max=70) for _ in range(num_records)],\n",
    "    \"genero\": [fake.random_element(elements=(\"Masculino\", \"Femenino\")) for _ in range(num_records)],\n",
    "    \"pais\": [fake.country() for _ in range(num_records)]\n",
    "}\n",
    "\n",
    "# Crear DataFrame de datos demográficos\n",
    "df_demografica = pd.DataFrame(data_demografica)\n",
    "\n",
    "# Generar datos de estadísticas de consumo de aplicaciones\n",
    "apps = [\"WhatsApp\", \"Instagram\", \"Facebook\", \"Twitter\", \"TikTok\", \"Snapchat\"]\n",
    "\n",
    "data_consumo = []\n",
    "\n",
    "# Recorrer cada correo electrónico y cada aplicación\n",
    "for correo in correos_electronicos:\n",
    "    # Número aleatorio de elementos a seleccionar (entre 1 y la longitud de apps)\n",
    "    num_elements = random.randint(1, len(apps))\n",
    "\n",
    "    # Seleccionar un subset aleatorio de apps\n",
    "    selected_apps = random.sample(apps, num_elements)\n",
    "\n",
    "    for app in selected_apps:\n",
    "        data_consumo.append({\n",
    "            \"correo_electronico\": correo,\n",
    "            \"fecha\": fake.date_this_year(),\n",
    "            \"app\": app,\n",
    "            \"tiempo_uso_minutos\": fake.random_int(min=1, max=300)\n",
    "        })\n",
    "\n",
    "# Crear DataFrame de datos de consumo\n",
    "df_consumo = pd.DataFrame(data_consumo)\n",
    "\n",
    "# Mostrar los DataFrames generados\n",
    "print(\"DataFrame de Datos Demográficos:\")\n",
    "print(df_demografica.head())\n",
    "print(\"\\nDataFrame de Datos de Consumo de Aplicaciones:\")\n",
    "print(df_consumo.head())\n"
   ]
  },
  {
   "cell_type": "markdown",
   "metadata": {},
   "source": [
    "## Pruebas de agrupacion"
   ]
  },
  {
   "cell_type": "code",
   "execution_count": null,
   "metadata": {},
   "outputs": [
    {
     "name": "stdout",
     "output_type": "stream",
     "text": [
      "DataFrame Agrupado:\n",
      "        correo_electronico  num_registros  media_tiempo_uso  \\\n",
      "0      aaron72@example.org              3        145.000000   \n",
      "1       alan41@example.net              5        166.400000   \n",
      "2     andrea12@example.com              5         96.000000   \n",
      "3  andrewdavis@example.com              3        107.666667   \n",
      "4    barbara34@example.org              4        110.500000   \n",
      "\n",
      "   varianza_tiempo_uso  \n",
      "0          8197.000000  \n",
      "1          7283.300000  \n",
      "2          3855.000000  \n",
      "3         14174.333333  \n",
      "4          2115.000000  \n"
     ]
    }
   ],
   "source": [
    "# Agrupar por correo electrónico, contar y calcular la media de tiempo de uso\n",
    "df_agrupado = df_consumo.groupby('correo_electronico').agg(\n",
    "    num_registros=('correo_electronico', 'size'),\n",
    "    media_tiempo_uso=('tiempo_uso_minutos', 'mean'),\n",
    "    varianza_tiempo_uso=('tiempo_uso_minutos', 'var')\n",
    ").reset_index()\n",
    "\n",
    "# Mostrar el DataFrame agrupado\n",
    "print(\"DataFrame Agrupado:\")\n",
    "print(df_agrupado.head())\n"
   ]
  },
  {
   "cell_type": "code",
   "execution_count": null,
   "metadata": {},
   "outputs": [],
   "source": [
    "df_consumo.groupby('correo_electronico').mean('tiempo_uso_minutos')"
   ]
  },
  {
   "cell_type": "code",
   "execution_count": null,
   "metadata": {},
   "outputs": [],
   "source": []
  }
 ],
 "metadata": {
  "kernelspec": {
   "display_name": "jupyter",
   "language": "python",
   "name": "python3"
  },
  "language_info": {
   "codemirror_mode": {
    "name": "ipython",
    "version": 3
   },
   "file_extension": ".py",
   "mimetype": "text/x-python",
   "name": "python",
   "nbconvert_exporter": "python",
   "pygments_lexer": "ipython3",
   "version": "3.11.5"
  }
 },
 "nbformat": 4,
 "nbformat_minor": 2
}
