{
 "cells": [
  {
   "cell_type": "code",
   "execution_count": 1,
   "metadata": {},
   "outputs": [
    {
     "name": "stdout",
     "output_type": "stream",
     "text": [
      "The Zen of Python, by Tim Peters\n",
      "\n",
      "Beautiful is better than ugly.\n",
      "Explicit is better than implicit.\n",
      "Simple is better than complex.\n",
      "Complex is better than complicated.\n",
      "Flat is better than nested.\n",
      "Sparse is better than dense.\n",
      "Readability counts.\n",
      "Special cases aren't special enough to break the rules.\n",
      "Although practicality beats purity.\n",
      "Errors should never pass silently.\n",
      "Unless explicitly silenced.\n",
      "In the face of ambiguity, refuse the temptation to guess.\n",
      "There should be one-- and preferably only one --obvious way to do it.\n",
      "Although that way may not be obvious at first unless you're Dutch.\n",
      "Now is better than never.\n",
      "Although never is often better than *right* now.\n",
      "If the implementation is hard to explain, it's a bad idea.\n",
      "If the implementation is easy to explain, it may be a good idea.\n",
      "Namespaces are one honking great idea -- let's do more of those!\n"
     ]
    }
   ],
   "source": [
    "import this"
   ]
  },
  {
   "cell_type": "code",
   "execution_count": 19,
   "metadata": {},
   "outputs": [
    {
     "name": "stdout",
     "output_type": "stream",
     "text": [
      "{'Italia', 'España', 'Alemania', 'Francia'}\n",
      "['Madrid', 'Paris', 'Roma', 'Berlin', 'Roma']\n",
      "{'Madrid', 'Roma', 'Paris', 'Berlin'}\n",
      "4\n",
      "5\n",
      "4\n",
      "{'o', 'k', 'T', 'i'}\n"
     ]
    }
   ],
   "source": [
    "set_countries = {\"España\", \"Francia\", \"Italia\", \"Alemania\", \"Italia\"}\n",
    "print(set_countries)\n",
    "\n",
    "list_cities = [\"Madrid\", \"Paris\", \"Roma\", \"Berlin\", \"Roma\"]\n",
    "print(list_cities)\n",
    "\n",
    "unique_cities = set(list_cities)\n",
    "print(unique_cities)\n",
    "\n",
    "size = len(set_countries)\n",
    "print(size)\n",
    "\n",
    "size_list = len(list_cities)\n",
    "print(size_list)\n",
    "\n",
    "size_unique = len(unique_cities)\n",
    "print(size_unique)\n",
    "\n",
    "letters = set(\"Tokio\")\n",
    "print(letters)"
   ]
  },
  {
   "cell_type": "code",
   "execution_count": 18,
   "metadata": {},
   "outputs": [
    {
     "name": "stdout",
     "output_type": "stream",
     "text": [
      "True\n",
      "True\n",
      "False\n",
      "{'Roma', 'Madrid', 'Tokio', 'o', 'k', 'Berlin', 'Paris', 'i', 'T'}\n",
      "{'Roma', 'Madrid', 'Tokio', 'o', 'k', 'Berlin', 'Paris', 'i', 'T'}\n",
      "{'Roma', 'Madrid', 'Tokio', 'o', 'k', 'Berlin', 'Paris', 'i', 'T'}\n",
      "{'Roma', 'Madrid', 'o', 'k', 'Berlin', 'Paris', 'i', 'T'}\n",
      "{'Roma', 'Madrid', 'o', 'k', 'Berlin', 'Paris', 'i', 'T'}\n"
     ]
    }
   ],
   "source": [
    "# Test if the object exists in the set\n",
    "print('Madrid' in unique_cities)\n",
    "print('Paris' in unique_cities)\n",
    "print('Estocolmo' in unique_cities)\n",
    "\n",
    "\n",
    "# Adding elemtns to set\n",
    "unique_cities.add(\"Tokio\")\n",
    "print(unique_cities)\n",
    "\n",
    "unique_cities.add(\"Tokio\")\n",
    "print(unique_cities)\n",
    "\n",
    "unique_cities.update(\"Tokio\")\n",
    "print(unique_cities)\n",
    "\n",
    "unique_cities.remove(\"Tokio\")\n",
    "print(unique_cities)\n",
    "\n",
    "unique_cities.discard(letters)\n",
    "print(unique_cities)\n"
   ]
  },
  {
   "cell_type": "code",
   "execution_count": 43,
   "metadata": {},
   "outputs": [
    {
     "name": "stdout",
     "output_type": "stream",
     "text": [
      "{'Italia', 'España', 'Alemania', 'Francia'}\n",
      "{'Italia', 'Chile', 'UK', 'Peru', 'Ecuador'}\n",
      "{'Chile', 'UK', 'España', 'Italia', 'Peru', 'Francia', 'Ecuador', 'Alemania'}\n",
      "{'Chile', 'UK', 'España', 'Italia', 'Peru', 'Francia', 'Ecuador', 'Alemania'}\n",
      "{'Italia'}\n",
      "{'Italia'}\n",
      "{'España', 'Alemania', 'Francia'}\n",
      "{'Chile', 'UK', 'Peru', 'Ecuador'}\n",
      "{'Chile', 'UK', 'Peru', 'España', 'Francia', 'Ecuador', 'Alemania'}\n",
      "{'Chile', 'UK', 'Peru', 'España', 'Francia', 'Ecuador', 'Alemania'}\n"
     ]
    }
   ],
   "source": [
    "new_countries = set_countries.copy()\n",
    "print(new_countries)\n",
    "\n",
    "new_countries.clear()\n",
    "\n",
    "new_countries = {'UK', 'Peru', 'Ecuador', 'Chile', 'Italia'}\n",
    "print(new_countries)\n",
    "\n",
    "all_countries = set_countries.union(new_countries)\n",
    "print(all_countries)\n",
    "print(new_countries | set_countries)\n",
    "\n",
    "common_countries = set_countries.intersection(new_countries)\n",
    "print(common_countries)\n",
    "print(new_countries & set_countries)\n",
    "\n",
    "difference = set_countries.difference(new_countries)\n",
    "print(difference)\n",
    "print(new_countries - set_countries)\n",
    "\n",
    "sym_difference = set_countries.symmetric_difference(new_countries)\n",
    "print(sym_difference)\n",
    "print(set_countries ^ new_countries)"
   ]
  }
 ],
 "metadata": {
  "kernelspec": {
   "display_name": "jupyter",
   "language": "python",
   "name": "python3"
  },
  "language_info": {
   "codemirror_mode": {
    "name": "ipython",
    "version": 3
   },
   "file_extension": ".py",
   "mimetype": "text/x-python",
   "name": "python",
   "nbconvert_exporter": "python",
   "pygments_lexer": "ipython3",
   "version": "3.11.5"
  }
 },
 "nbformat": 4,
 "nbformat_minor": 2
}
